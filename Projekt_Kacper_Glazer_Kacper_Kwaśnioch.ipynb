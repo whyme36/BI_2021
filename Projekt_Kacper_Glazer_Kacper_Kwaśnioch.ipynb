{
  "nbformat": 4,
  "nbformat_minor": 5,
  "metadata": {
    "kernelspec": {
      "display_name": "Python 3",
      "language": "python",
      "name": "python3"
    },
    "language_info": {
      "codemirror_mode": {
        "name": "ipython",
        "version": 3
      },
      "file_extension": ".py",
      "mimetype": "text/x-python",
      "name": "python",
      "nbconvert_exporter": "python",
      "pygments_lexer": "ipython3",
      "version": "3.8.8"
    },
    "colab": {
      "name": "Projekt_Kacper_Glazer_Kacper_Kwaśnioch.ipynb",
      "provenance": [],
      "collapsed_sections": []
    }
  },
  "cells": [
    {
      "cell_type": "markdown",
      "metadata": {
        "id": "wtPPiB2Di8UH"
      },
      "source": [
        "# Projekt wykonany przez: Kacper Kwaśnioch, Kacper Glazer \n",
        "# Grupa 17\n",
        "## Dane \n",
        "Wykorzystane dane są z kaggle: https://www.kaggle.com/kwullum/fatal-police-shootings-in-the-us?select=PoliceKillingsUS.csv \n",
        "\n",
        "Dane składają się z informacji na temat osób zabitych przez policję w USA w ramach interwencji policyjnej. Całość składa się z 5 datasetów, w których możemy zaobserwować dane na temat wskaźniku ubóstwa, ukończenia szkoły średniej, mediany dochodu gospodarstw domowych, demografii rasowej oraz płciowej. Główny dataset skała się na dane osobowe osób zastrzelonych przez policję, imię, data śmierci, typ broni, czym i czy w ogóle była uzbrojona, wiek, rasa,miejsce zamieszkania. Dane zostały zbierane od 1 styczna 2015r. przez Washington Post, gazeta pozyskiwała dane ze stron internetowych organów ścigania, lokalnych raportów, mediów społecznościowych oraz poprzez monitorowanie niezależnych baz danych.\n",
        "\n",
        "Jako zmienną **Y** obraliśmy **rase**, z której stworzyliśmy zmienną binarną wykorzystywana w modelach (pokrzywdzony był biały -1, jeżeli nie jest biały -0)\n",
        "\n",
        "Za zmienne **X** posłużyły nam: age, date, signs_of_mental_illness, Median Income,poverty_rate, percent_completed_hs, share_white, share_black, share_native_american, share_asian, share_hispanic, threat_level, threat_level, gender\n",
        "# Cel \n",
        "\n",
        "Wykorzystanie podejść:\n",
        "\n",
        "*   Propensity score weighting\n",
        "*   Propensity score matching\n",
        "*   Mass imputation\n",
        "\n",
        "\n",
        "\n"
      ],
      "id": "wtPPiB2Di8UH"
    },
    {
      "cell_type": "code",
      "metadata": {
        "colab": {
          "base_uri": "https://localhost:8080/"
        },
        "id": "4dWZv1srS8M3",
        "outputId": "9f0f8765-03e7-418a-8090-20da168ed005"
      },
      "source": [
        "!pip install catboost"
      ],
      "id": "4dWZv1srS8M3",
      "execution_count": 6,
      "outputs": [
        {
          "output_type": "stream",
          "text": [
            "Collecting catboost\n",
            "\u001b[?25l  Downloading https://files.pythonhosted.org/packages/5a/41/24e14322b9986cf72a8763e0a0a69cc256cf963cf9502c8f0044a62c1ae8/catboost-0.26-cp37-none-manylinux1_x86_64.whl (69.2MB)\n",
            "\u001b[K     |████████████████████████████████| 69.2MB 67kB/s \n",
            "\u001b[?25hRequirement already satisfied: graphviz in /usr/local/lib/python3.7/dist-packages (from catboost) (0.10.1)\n",
            "Requirement already satisfied: numpy>=1.16.0 in /usr/local/lib/python3.7/dist-packages (from catboost) (1.19.5)\n",
            "Requirement already satisfied: scipy in /usr/local/lib/python3.7/dist-packages (from catboost) (1.4.1)\n",
            "Requirement already satisfied: plotly in /usr/local/lib/python3.7/dist-packages (from catboost) (4.4.1)\n",
            "Requirement already satisfied: matplotlib in /usr/local/lib/python3.7/dist-packages (from catboost) (3.2.2)\n",
            "Requirement already satisfied: six in /usr/local/lib/python3.7/dist-packages (from catboost) (1.15.0)\n",
            "Requirement already satisfied: pandas>=0.24.0 in /usr/local/lib/python3.7/dist-packages (from catboost) (1.1.5)\n",
            "Requirement already satisfied: retrying>=1.3.3 in /usr/local/lib/python3.7/dist-packages (from plotly->catboost) (1.3.3)\n",
            "Requirement already satisfied: pyparsing!=2.0.4,!=2.1.2,!=2.1.6,>=2.0.1 in /usr/local/lib/python3.7/dist-packages (from matplotlib->catboost) (2.4.7)\n",
            "Requirement already satisfied: kiwisolver>=1.0.1 in /usr/local/lib/python3.7/dist-packages (from matplotlib->catboost) (1.3.1)\n",
            "Requirement already satisfied: python-dateutil>=2.1 in /usr/local/lib/python3.7/dist-packages (from matplotlib->catboost) (2.8.1)\n",
            "Requirement already satisfied: cycler>=0.10 in /usr/local/lib/python3.7/dist-packages (from matplotlib->catboost) (0.10.0)\n",
            "Requirement already satisfied: pytz>=2017.2 in /usr/local/lib/python3.7/dist-packages (from pandas>=0.24.0->catboost) (2018.9)\n",
            "Installing collected packages: catboost\n",
            "Successfully installed catboost-0.26\n"
          ],
          "name": "stdout"
        }
      ]
    },
    {
      "cell_type": "code",
      "metadata": {
        "id": "322f7db1"
      },
      "source": [
        "import pandas as pd\n",
        "import numpy as np\n",
        "from sklearn.model_selection import train_test_split\n",
        "from sklearn import metrics\n",
        "import matplotlib.pyplot as plt\n",
        "from sklearn.metrics import mean_squared_error, r2_score\n",
        "from datetime import datetime\n",
        "from sklearn.linear_model import LogisticRegression\n",
        "from sklearn.metrics import confusion_matrix,accuracy_score,precision_score,recall_score\n",
        "from sklearn.model_selection import train_test_split\n",
        "import seaborn as sn\n",
        "from sklearn.ensemble import RandomForestClassifier\n",
        "from catboost import CatBoostClassifier\n",
        "import math\n",
        "from statistics import variance\n",
        "import warnings\n",
        "warnings.filterwarnings('ignore')"
      ],
      "id": "322f7db1",
      "execution_count": 8,
      "outputs": []
    },
    {
      "cell_type": "code",
      "metadata": {
        "id": "085aae0e",
        "colab": {
          "base_uri": "https://localhost:8080/",
          "height": 406
        },
        "outputId": "51540e59-45c8-4cb4-8d14-6c22981ff1c4"
      },
      "source": [
        "df=pd.read_csv('https://raw.githubusercontent.com/whyme36/BI_2021/master/Fatal_Police_Shootings_in_the_US.csv')\n",
        "preprocessing(df)"
      ],
      "id": "085aae0e",
      "execution_count": 42,
      "outputs": [
        {
          "output_type": "execute_result",
          "data": {
            "text/html": [
              "<div>\n",
              "<style scoped>\n",
              "    .dataframe tbody tr th:only-of-type {\n",
              "        vertical-align: middle;\n",
              "    }\n",
              "\n",
              "    .dataframe tbody tr th {\n",
              "        vertical-align: top;\n",
              "    }\n",
              "\n",
              "    .dataframe thead th {\n",
              "        text-align: right;\n",
              "    }\n",
              "</style>\n",
              "<table border=\"1\" class=\"dataframe\">\n",
              "  <thead>\n",
              "    <tr style=\"text-align: right;\">\n",
              "      <th></th>\n",
              "      <th>date</th>\n",
              "      <th>age</th>\n",
              "      <th>race</th>\n",
              "      <th>signs_of_mental_illness</th>\n",
              "      <th>Median Income</th>\n",
              "      <th>poverty_rate</th>\n",
              "      <th>percent_completed_hs</th>\n",
              "      <th>share_white</th>\n",
              "      <th>share_black</th>\n",
              "      <th>share_native_american</th>\n",
              "      <th>share_asian</th>\n",
              "      <th>share_hispanic</th>\n",
              "      <th>attack</th>\n",
              "      <th>other</th>\n",
              "      <th>threat_level_undetermined</th>\n",
              "      <th>shot</th>\n",
              "      <th>M</th>\n",
              "    </tr>\n",
              "  </thead>\n",
              "  <tbody>\n",
              "    <tr>\n",
              "      <th>0</th>\n",
              "      <td>1.420157e+09</td>\n",
              "      <td>53.0</td>\n",
              "      <td>0</td>\n",
              "      <td>1</td>\n",
              "      <td>37072.0</td>\n",
              "      <td>28.6</td>\n",
              "      <td>80.1</td>\n",
              "      <td>78.9</td>\n",
              "      <td>0.8</td>\n",
              "      <td>3.7</td>\n",
              "      <td>1.1</td>\n",
              "      <td>19.2</td>\n",
              "      <td>1</td>\n",
              "      <td>0</td>\n",
              "      <td>0</td>\n",
              "      <td>1</td>\n",
              "      <td>1</td>\n",
              "    </tr>\n",
              "    <tr>\n",
              "      <th>1</th>\n",
              "      <td>1.420157e+09</td>\n",
              "      <td>47.0</td>\n",
              "      <td>1</td>\n",
              "      <td>0</td>\n",
              "      <td>65765.0</td>\n",
              "      <td>14.9</td>\n",
              "      <td>88.1</td>\n",
              "      <td>70.9</td>\n",
              "      <td>2.6</td>\n",
              "      <td>1.0</td>\n",
              "      <td>8.9</td>\n",
              "      <td>21.1</td>\n",
              "      <td>1</td>\n",
              "      <td>0</td>\n",
              "      <td>0</td>\n",
              "      <td>1</td>\n",
              "      <td>1</td>\n",
              "    </tr>\n",
              "    <tr>\n",
              "      <th>2</th>\n",
              "      <td>1.443744e+09</td>\n",
              "      <td>55.0</td>\n",
              "      <td>1</td>\n",
              "      <td>1</td>\n",
              "      <td>65765.0</td>\n",
              "      <td>14.9</td>\n",
              "      <td>88.1</td>\n",
              "      <td>70.9</td>\n",
              "      <td>2.6</td>\n",
              "      <td>1.0</td>\n",
              "      <td>8.9</td>\n",
              "      <td>21.1</td>\n",
              "      <td>0</td>\n",
              "      <td>1</td>\n",
              "      <td>0</td>\n",
              "      <td>1</td>\n",
              "      <td>0</td>\n",
              "    </tr>\n",
              "    <tr>\n",
              "      <th>3</th>\n",
              "      <td>1.420243e+09</td>\n",
              "      <td>23.0</td>\n",
              "      <td>0</td>\n",
              "      <td>0</td>\n",
              "      <td>45947.0</td>\n",
              "      <td>17.3</td>\n",
              "      <td>87.5</td>\n",
              "      <td>71.9</td>\n",
              "      <td>11.5</td>\n",
              "      <td>1.2</td>\n",
              "      <td>4.8</td>\n",
              "      <td>15.3</td>\n",
              "      <td>0</td>\n",
              "      <td>1</td>\n",
              "      <td>0</td>\n",
              "      <td>0</td>\n",
              "      <td>1</td>\n",
              "    </tr>\n",
              "    <tr>\n",
              "      <th>4</th>\n",
              "      <td>1.440202e+09</td>\n",
              "      <td>26.0</td>\n",
              "      <td>1</td>\n",
              "      <td>0</td>\n",
              "      <td>45947.0</td>\n",
              "      <td>17.3</td>\n",
              "      <td>87.5</td>\n",
              "      <td>71.9</td>\n",
              "      <td>11.5</td>\n",
              "      <td>1.2</td>\n",
              "      <td>4.8</td>\n",
              "      <td>15.3</td>\n",
              "      <td>1</td>\n",
              "      <td>0</td>\n",
              "      <td>0</td>\n",
              "      <td>1</td>\n",
              "      <td>1</td>\n",
              "    </tr>\n",
              "    <tr>\n",
              "      <th>...</th>\n",
              "      <td>...</td>\n",
              "      <td>...</td>\n",
              "      <td>...</td>\n",
              "      <td>...</td>\n",
              "      <td>...</td>\n",
              "      <td>...</td>\n",
              "      <td>...</td>\n",
              "      <td>...</td>\n",
              "      <td>...</td>\n",
              "      <td>...</td>\n",
              "      <td>...</td>\n",
              "      <td>...</td>\n",
              "      <td>...</td>\n",
              "      <td>...</td>\n",
              "      <td>...</td>\n",
              "      <td>...</td>\n",
              "      <td>...</td>\n",
              "    </tr>\n",
              "    <tr>\n",
              "      <th>2050</th>\n",
              "      <td>1.500768e+09</td>\n",
              "      <td>49.0</td>\n",
              "      <td>1</td>\n",
              "      <td>0</td>\n",
              "      <td>45750.0</td>\n",
              "      <td>16.9</td>\n",
              "      <td>80.6</td>\n",
              "      <td>95.1</td>\n",
              "      <td>0.8</td>\n",
              "      <td>0.3</td>\n",
              "      <td>0.8</td>\n",
              "      <td>4.3</td>\n",
              "      <td>1</td>\n",
              "      <td>0</td>\n",
              "      <td>0</td>\n",
              "      <td>1</td>\n",
              "      <td>1</td>\n",
              "    </tr>\n",
              "    <tr>\n",
              "      <th>2051</th>\n",
              "      <td>1.500941e+09</td>\n",
              "      <td>16.0</td>\n",
              "      <td>0</td>\n",
              "      <td>0</td>\n",
              "      <td>61669.0</td>\n",
              "      <td>10.9</td>\n",
              "      <td>89.3</td>\n",
              "      <td>68.1</td>\n",
              "      <td>28.0</td>\n",
              "      <td>0.4</td>\n",
              "      <td>1.5</td>\n",
              "      <td>2.0</td>\n",
              "      <td>0</td>\n",
              "      <td>0</td>\n",
              "      <td>1</td>\n",
              "      <td>1</td>\n",
              "      <td>1</td>\n",
              "    </tr>\n",
              "    <tr>\n",
              "      <th>2052</th>\n",
              "      <td>1.501114e+09</td>\n",
              "      <td>39.0</td>\n",
              "      <td>0</td>\n",
              "      <td>0</td>\n",
              "      <td>27050.0</td>\n",
              "      <td>40.0</td>\n",
              "      <td>79.0</td>\n",
              "      <td>33.0</td>\n",
              "      <td>64.3</td>\n",
              "      <td>0.1</td>\n",
              "      <td>0.8</td>\n",
              "      <td>1.4</td>\n",
              "      <td>1</td>\n",
              "      <td>0</td>\n",
              "      <td>0</td>\n",
              "      <td>1</td>\n",
              "      <td>1</td>\n",
              "    </tr>\n",
              "    <tr>\n",
              "      <th>2053</th>\n",
              "      <td>1.501114e+09</td>\n",
              "      <td>34.0</td>\n",
              "      <td>0</td>\n",
              "      <td>0</td>\n",
              "      <td>34559.0</td>\n",
              "      <td>32.1</td>\n",
              "      <td>68.3</td>\n",
              "      <td>61.6</td>\n",
              "      <td>12.6</td>\n",
              "      <td>2.0</td>\n",
              "      <td>2.1</td>\n",
              "      <td>37.8</td>\n",
              "      <td>1</td>\n",
              "      <td>0</td>\n",
              "      <td>0</td>\n",
              "      <td>1</td>\n",
              "      <td>1</td>\n",
              "    </tr>\n",
              "    <tr>\n",
              "      <th>2054</th>\n",
              "      <td>1.501459e+09</td>\n",
              "      <td>28.0</td>\n",
              "      <td>0</td>\n",
              "      <td>0</td>\n",
              "      <td>42650.0</td>\n",
              "      <td>17.9</td>\n",
              "      <td>89.3</td>\n",
              "      <td>90.5</td>\n",
              "      <td>3.1</td>\n",
              "      <td>0.8</td>\n",
              "      <td>3.2</td>\n",
              "      <td>2.7</td>\n",
              "      <td>1</td>\n",
              "      <td>0</td>\n",
              "      <td>0</td>\n",
              "      <td>1</td>\n",
              "      <td>1</td>\n",
              "    </tr>\n",
              "  </tbody>\n",
              "</table>\n",
              "<p>2055 rows × 17 columns</p>\n",
              "</div>"
            ],
            "text/plain": [
              "              date   age  race  ...  threat_level_undetermined  shot  M\n",
              "0     1.420157e+09  53.0     0  ...                          0     1  1\n",
              "1     1.420157e+09  47.0     1  ...                          0     1  1\n",
              "2     1.443744e+09  55.0     1  ...                          0     1  0\n",
              "3     1.420243e+09  23.0     0  ...                          0     0  1\n",
              "4     1.440202e+09  26.0     1  ...                          0     1  1\n",
              "...            ...   ...   ...  ...                        ...   ... ..\n",
              "2050  1.500768e+09  49.0     1  ...                          0     1  1\n",
              "2051  1.500941e+09  16.0     0  ...                          1     1  1\n",
              "2052  1.501114e+09  39.0     0  ...                          0     1  1\n",
              "2053  1.501114e+09  34.0     0  ...                          0     1  1\n",
              "2054  1.501459e+09  28.0     0  ...                          0     1  1\n",
              "\n",
              "[2055 rows x 17 columns]"
            ]
          },
          "metadata": {
            "tags": []
          },
          "execution_count": 42
        }
      ]
    },
    {
      "cell_type": "markdown",
      "metadata": {
        "id": "U3Ezu_vnmg_O"
      },
      "source": [
        "## Przetworzenie dancyh (Kwaśnioch):\n",
        "\n",
        "*   wyrzucenie niepotrzebnych kolumn\n",
        "*   wyrzucenie wierszy bez określonej rasy\n",
        "*   przetworzenie zmiennych jakościowych \n",
        "*   wypełnienie pustych komórek średnimi ilościowymi (np. age)\n",
        "*   przekonwertowanie zmiennej date w liczbę \n",
        "*   zmianna zmiennej ,,race\" na zmienną binarną (1-White,0-None White)\n",
        "\n",
        "Po przetworzeniu nasze dane mają formaty liczbowe\n",
        "\n"
      ],
      "id": "U3Ezu_vnmg_O"
    },
    {
      "cell_type": "code",
      "metadata": {
        "id": "46a6c70e"
      },
      "source": [
        "def preprocessing(df):\n",
        "    df = df.drop(['id', 'name', 'city', 'state','body_camera', 'flee','armed'], axis=1)\n",
        "\n",
        "    l_ch = []\n",
        "    for e in df['threat_level']:\n",
        "        if e == 'undetermined':\n",
        "            l_ch.append('threat_level_undetermined')\n",
        "        else:\n",
        "            l_ch.append(e)\n",
        "    df['threat_level'] = l_ch\n",
        "\n",
        "    df = df[df['race'].notna()]\n",
        "    df = df.reset_index(drop=True)\n",
        "\n",
        "    df['age'] = df['age'].fillna(df['age'].median())\n",
        "    df['Median Income'] = df['Median Income'].fillna(df['Median Income'].median())\n",
        "    cols = [ 'threat_level', 'manner_of_death', 'gender'] #'armed'\n",
        "    for col in cols:\n",
        "        dummy = pd.get_dummies(df[col])\n",
        "        df = pd.concat([df, dummy], axis=1)\n",
        "        df = df.drop(col,axis=1)\n",
        "    df['signs_of_mental_illness'] = df['signs_of_mental_illness'].astype(int)\n",
        "    ll =[datetime.strptime(element, '%d/%m/%y') for element in df['date']]\n",
        "    ll2 = [e.strftime('%Y-%m-%d %H:%M:%S.%f') for e in ll]\n",
        "    ll3 =[datetime.fromisoformat(element).timestamp() for element in ll2]\n",
        "    df['date'] = ll3\n",
        "    l_race  = []\n",
        "    for e in df['race']:\n",
        "        if e == 'W':\n",
        "            l_race.append(1)\n",
        "        else:\n",
        "            l_race.append(0)\n",
        "    df['race'] = l_race\n",
        "    df = df.drop(['F', 'shot and Tasered'], axis=1)\n",
        "    return df\n",
        "\n"
      ],
      "id": "46a6c70e",
      "execution_count": 10,
      "outputs": []
    },
    {
      "cell_type": "markdown",
      "metadata": {
        "id": "PNT-1Z7Ync__"
      },
      "source": [
        "## Korelacja (Glazer)\n",
        "\n",
        "Sprawdzenie czy zienne ze sobą korelują, znależliśmy i wyrzuciliśmy jedne z kolumn:\n",
        "\n",
        "\n",
        "*   'F' i 'M\"\n",
        "*   'shot and Tasered' i 'shot'\n",
        "\n",
        "reszte zmiennych uznaliśmy za potrzebne.\n",
        "\n"
      ],
      "id": "PNT-1Z7Ync__"
    },
    {
      "cell_type": "code",
      "metadata": {
        "id": "09b51cda",
        "colab": {
          "base_uri": "https://localhost:8080/",
          "height": 412
        },
        "outputId": "45a5c6b1-4d9e-4c2e-a15a-7ea675565cdf"
      },
      "source": [
        "corr_matrix=preprocessing(df).corr()\n",
        "sn.heatmap(corr_matrix, annot=True)"
      ],
      "id": "09b51cda",
      "execution_count": null,
      "outputs": [
        {
          "output_type": "execute_result",
          "data": {
            "text/plain": [
              "<matplotlib.axes._subplots.AxesSubplot at 0x7fa54d78d250>"
            ]
          },
          "metadata": {
            "tags": []
          },
          "execution_count": 36
        },
        {
          "output_type": "display_data",
          "data": {
            "image/png": "[encoded data removed]",
            "text/plain": [
              "<Figure size 432x288 with 2 Axes>"
            ]
          },
          "metadata": {
            "tags": [],
            "needs_background": "light"
          }
        }
      ]
    },
    {
      "cell_type": "markdown",
      "metadata": {
        "id": "kfFy96Qvob_k"
      },
      "source": [
        "## Utworzenie próby losowej i nielosowej (Kwaśnioch)\n",
        "W naszym przypadku cała populacja liczy 2055 wierszy, z których tworzymy próby.\n",
        "\n",
        "nielosowa - jest to zmieniający się zakres od [0:400] do  [100:500] elemtów (400 wystąpień w każdej próbie)\n",
        "\n",
        "losowa- powstaje w wyniku próby warstwowej, za pośrednictwem zmiennej `state` (również 400 wystąpień)\n",
        "\n"
      ],
      "id": "kfFy96Qvob_k"
    },
    {
      "cell_type": "code",
      "metadata": {
        "id": "bb7db7b4"
      },
      "source": [
        "def losowa_nielosowa_split(df,i, losowa_wielkosc = 400, if_sample = False):\n",
        "  #tworzenie próby nielosowej sposób 1\n",
        "  if if_sample == False:\n",
        "    df_nielosowa = df[0+i:losowa_wielkosc+i]\n",
        "    df_nielosowa = df_nielosowa.reset_index(drop=True)\n",
        "  #Sprawdzanie ile wartosci znajduje się w populacji i ile chcemy przypisać do zbioru losowego\n",
        "  import math\n",
        "  dict_len = {}\n",
        "  for e in df['state'].unique():\n",
        "    lenn = math.ceil(len(df[df['state'] == e])/len(df)*losowa_wielkosc)\n",
        "    dict_len[e] = lenn\n",
        "  #obliczanie probability\n",
        "  dict_prob = {}\n",
        "  for e in dict_len.keys():\n",
        "    prob = dict_len[e]/len(df[df['state'] == e])\n",
        "    dict_prob[e] = prob\n",
        "  #obliczanie wag\n",
        "  dict_waga ={}\n",
        "  for e in dict_prob.keys():\n",
        "    waga = 1/dict_prob[e]\n",
        "    dict_waga[e] = waga\n",
        "  #tworzenie proby losowej\n",
        "  proba_losowa = pd.DataFrame()\n",
        "  for element in dict_len.keys():\n",
        "    t = df[df['state'] == element].sample(n=int(dict_len[element]), replace=False, random_state = i)\n",
        "    proba_losowa = pd.concat([proba_losowa, t])\n",
        "  #dodawanie wag do proby losowej\n",
        "  ll_wagi = []\n",
        "  for e in proba_losowa['state']:\n",
        "    waga = dict_waga[e]\n",
        "    ll_wagi.append(waga)\n",
        "  proba_losowa['waga'] = ll_wagi\n",
        "  #tworzenie próby nielosowej sposób 2\n",
        "  if if_sample == True:\n",
        "    df_dla_nielosowa = df[~df.index.isin(proba_losowa.index)]\n",
        "    df_nielosowa = df_dla_nielosowa.sample(n = losowa_wielkosc, random_state=i)\n",
        "    df_nielosowa = df_nielosowa.reset_index(drop=True)\n",
        "\n",
        "  return proba_losowa, df_nielosowa"
      ],
      "id": "bb7db7b4",
      "execution_count": 11,
      "outputs": []
    },
    {
      "cell_type": "markdown",
      "metadata": {
        "id": "n_Rznsbm2GXV"
      },
      "source": [
        "## Funkcja weightedMean oblicza średnią ważoną oraz funkcja BiasVarMSE obliczająca obciążenie/Wariancje/MSE (Glazer)"
      ],
      "id": "n_Rznsbm2GXV"
    },
    {
      "cell_type": "code",
      "metadata": {
        "id": "EID05wtQb_tn"
      },
      "source": [
        "def weightedMean(Y,W,n) :\n",
        "      \"\"\"\n",
        "    :param Y - zmienna celu: \n",
        "    :param W - wagi : \n",
        "    :param n - wielkość zbioru: \n",
        "    :return: \n",
        "    \"\"\"\n",
        "    sum = 0\n",
        "    numWeight = 0\n",
        "    i = 0\n",
        "    while  i < n :     \n",
        "        numWeight = numWeight + Y[i] * W[i]\n",
        "        sum = sum + W[i]\n",
        "        i = i + 1\n",
        "    return round((numWeight / sum),4)"
      ],
      "id": "EID05wtQb_tn",
      "execution_count": 12,
      "outputs": []
    },
    {
      "cell_type": "code",
      "metadata": {
        "id": "jsCb1HtYrtbx"
      },
      "source": [
        "df_population_mean=preprocessing(df)['race'].mean()\n",
        "\n",
        "def BiasVarMSE(Srednie_wazone_modelu,Wariancja_array,nazwa_podejscia):\n",
        "  \"\"\"\n",
        "    :param Srednie_wazone_modelu - tablica z średnimi wyliczonymi w pętli (100 średnich): \n",
        "    :param Wariancja_array - tablica variancji próby nielosowej dla zmiennej celu y-,,race\": \n",
        "    :param nazwa_podejscia - etykieta metody: \n",
        "    :return: \n",
        "    \"\"\"\n",
        "  bias=round(np.array(Srednie_wazone_modelu).mean()-df_population_mean,4)\n",
        "  var = round(np.array(Wariancja_array).mean(),4)\n",
        "  MSE=round(bias**2+var,4)\n",
        "  return nazwa_podejscia,bias,var,MSE"
      ],
      "id": "jsCb1HtYrtbx",
      "execution_count": 38,
      "outputs": []
    },
    {
      "cell_type": "markdown",
      "metadata": {
        "id": "BIeVmtts2O0K"
      },
      "source": [
        "## Symulacja\n",
        "\n",
        "Każde z podejść estymowaliśmy 100, zapisując wyniki do tablic.\n",
        "\n",
        "Podejście **propensity score weighting** zostało zastosowane do modelu **RandomForestClassifier**..\n",
        "\n",
        "Podejście **propensity score matching** zostało zastosowane do modelu  **CatBoostClassifier**.\n",
        "\n",
        "Podejście **mass imputation** zostało zastosowane do modelu  **CatBoostClassifier**.\n",
        "\n",
        "Został również wyliczony model **naiwny**."
      ],
      "id": "BIeVmtts2O0K"
    },
    {
      "cell_type": "markdown",
      "metadata": {
        "id": "lZwS8mMZScMe"
      },
      "source": [
        "Naiwny (Glazer)"
      ],
      "id": "lZwS8mMZScMe"
    },
    {
      "cell_type": "code",
      "metadata": {
        "id": "4-2wKgN8SGuh"
      },
      "source": [
        "Srednie_wazone_naiwny=[]\n",
        "Variance_naiwny=[]\n",
        "for i in range(100):\n",
        "  #tworzenie prób\n",
        "  df_losowa, df_nielosowa=losowa_nielosowa_split(df,i)\n",
        "  #oczyszczenie prób\n",
        "  df_nielosowa=preprocessing(df_nielosowa)\n",
        "  df_losowa=preprocessing(df_losowa)\n",
        "  #Wyliczenie średniej i wariancji \n",
        "  naiwny = df_nielosowa['race'].mean()\n",
        "  var = variance(df_nielosowa['race'])\n",
        "  Variance_naiwny.append(var)\n",
        "  Srednie_wazone_naiwny.append(naiwny)\n",
        "  # postęp pracy\n",
        "  print(f'{i+1} z 100 został ukończony!')"
      ],
      "id": "4-2wKgN8SGuh",
      "execution_count": null,
      "outputs": []
    },
    {
      "cell_type": "markdown",
      "metadata": {
        "id": "VmgEBwxMSDBb"
      },
      "source": [
        "Propensity score weighting (Glazer)"
      ],
      "id": "VmgEBwxMSDBb"
    },
    {
      "cell_type": "code",
      "metadata": {
        "id": "5e84044c"
      },
      "source": [
        "Srednie_wazone_PSW=[]\n",
        "Variance_PSW=[]\n",
        "for i in range(100):\n",
        "    i = i+100\n",
        "    #tworzymy próby losowe i nielosowe\n",
        "    df_losowa, df_nielosowa=losowa_nielosowa_split(df,i)\n",
        "    df_nielosowa=preprocessing(df_nielosowa)\n",
        "    df_nielosowa['R']=1\n",
        "\n",
        "    # wyrzucamy z losowej Y \n",
        "    df_losowa=preprocessing(df_losowa)\n",
        "    df_losowa_X=df_losowa.drop('race', axis=1)\n",
        "    df_losowa_X['R']=0\n",
        "\n",
        "    # tworzymy model z połączenia prób\n",
        "    df_to_model = pd.concat([df_losowa_X, df_nielosowa])\n",
        "    y = df_to_model['R']\n",
        "    X = df_to_model.drop(['R', 'race', 'waga'], axis=1)\n",
        "    model_rf = RandomForestClassifier(max_depth=1, random_state=2,verbose=False)\n",
        "    model_rf.fit(X, y)\n",
        "    \n",
        "    #Propensity score weighting\n",
        "    \n",
        "    y_prob_rf = model_rf.predict_proba(X)\n",
        "    #otzymaliśmy prawdopodobieństwa array([0.57078367, 0.42921633]) wiemy iz [prawdopodobieństwo_nie_bycia_bialym, prawdopodobieństwo_bycia_bialym]. Dodajemy więc prawdobodobienstwo bycia białym \n",
        "    df_to_model['prob']=[x[1] for x in y_prob_rf]\n",
        "    # z danych wyjmujemy próbe nielosową\n",
        "    df_nielosowa_PSW=df_to_model.loc[df_to_model['R']==1]\n",
        "    #tworzymy wagi 1/prawdopodobieństwo\n",
        "    df_nielosowa_PSW['waga']=round(1/df_nielosowa_PSW['prob'],2)\n",
        "\n",
        "    #liczymy średnie i wariancje\n",
        "    PSW=weightedMean(df_nielosowa_PSW['race'],df_nielosowa_PSW['waga'],len(df_nielosowa_PSW))\n",
        "    Srednie_wazone_PSW.append(PSW)\n",
        "    var = variance(df_nielosowa_PSW['race'])\n",
        "    Variance_PSW.append(var)\n",
        "    # postęp pracy\n",
        "    print(f'{i+1} z 100 został ukończony!')\n",
        "    \n",
        "    "
      ],
      "id": "5e84044c",
      "execution_count": null,
      "outputs": []
    },
    {
      "cell_type": "markdown",
      "metadata": {
        "id": "0-mWhvMUNNU8"
      },
      "source": [
        "Propensity score matching (Kwaśnioch)"
      ],
      "id": "0-mWhvMUNNU8"
    },
    {
      "cell_type": "code",
      "metadata": {
        "id": "soMlP2-2Mtpz"
      },
      "source": [
        "Srednie_wazone_PSM=[]\n",
        "Variance_PSM=[]\n",
        "for i in range(100):\n",
        "  i = i+200\n",
        "#tworzymy próby losowe i nielosowe\n",
        "  proba_losowa, df_nielosowa=losowa_nielosowa_split(df,i)\n",
        "  proba_losowa= preprocessing(proba_losowa)\n",
        "  df_nielosowa= preprocessing(df_nielosowa)\n",
        "\n",
        "  df_nielosowa['R']=1\n",
        "  proba_losowa=proba_losowa.drop(['race'], axis=1)\n",
        "  proba_losowa['R']=0\n",
        "\n",
        "  df_to_model = pd.concat([proba_losowa, df_nielosowa])\n",
        "\n",
        "  model_cat = CatBoostClassifier(max_depth=2, random_state=2,verbose=False)\n",
        "\n",
        "  y = df_to_model['R']\n",
        "  X = df_to_model.drop(['R','race', 'waga'], axis=1)\n",
        "\n",
        "  test_size = 0.33\n",
        "  X_train, X_test, y_train, y_test = train_test_split(X, y, test_size=test_size)\n",
        "  model_cat.fit(X_train, y_train)\n",
        "\n",
        "  y_prob_cat = model_cat.predict_proba(X)\n",
        "  score = model_rf.score(X_test, y_test)\n",
        "  print(score)\n",
        "\n",
        "  prob_list = []\n",
        "  for e in y_prob_cat:\n",
        "    prob_list.append(e[1])\n",
        "  prob_list=[round(e,2) for e in prob_list]\n",
        "\n",
        "  df_to_model['prob'] = prob_list\n",
        "  proba_losowa = df_to_model[df_to_model['race'].isna()]\n",
        "  df_nielosowa = df_to_model[df_to_model['waga'].isna()]\n",
        "\n",
        "    #tworze dwa dict jeden z prob z losowej jeden z nielosowej\n",
        "  lis_min = []\n",
        "  dist_los = proba_losowa['prob'].to_dict()\n",
        "  dist_nlos = df_nielosowa['prob'].to_dict()\n",
        "\n",
        "    #usupełniam matchujące do siebie prob z dwoch df, wynik dodaje do listy\n",
        "  lis = []\n",
        "  for index, row in proba_losowa.iterrows():\n",
        "    for index_n, row_n in df_nielosowa.iterrows():\n",
        "      if row['prob'] == row_n['prob']:\n",
        "        lis.append((index, index_n))\n",
        "    #Do kolejnej listy dodaję wagi znalezione w df_los\n",
        "  lis2 = []\n",
        "  for e in lis:\n",
        "    indx = e[0]\n",
        "    waga = proba_losowa[proba_losowa.index == indx]['waga'].tolist()\n",
        "    waga = waga[0]\n",
        "    lis2.append((waga,e[1]))\n",
        "\n",
        "    #torze dict z kluczem jako index nielosowej, a value jako wagą matchującą\n",
        "  lista_wag_n = {}\n",
        "  for element in df_nielosowa.index:\n",
        "    for tup in lis2:\n",
        "      if element == tup[1]:\n",
        "        lista_wag_n[element] = tup[0]\n",
        "    #usuwam ze słownika początkowego znalezione wagi i indexy\n",
        "  for e in lista_wag_n:\n",
        "    dist_nlos.pop(e, None)\n",
        "\n",
        "    # usupełniam brakujące elementy dobierając najbliższych sąsiadów z df_los\n",
        "  ll_uzupelnienie = []\n",
        "  for e in dist_nlos.keys():\n",
        "    ll={}\n",
        "    for e_l in dist_los.keys():\n",
        "      val = abs(dist_nlos[e] - dist_los[e_l])\n",
        "      ll[(e,e_l)]=val\n",
        "    needed_val = min(ll.items(), key=lambda x: x[1])\n",
        "    ll_uzupelnienie.append(needed_val[0])\n",
        "    #sprawdzam jakie wagi miały dopasowane elementy z df_los\n",
        "  ll_uzupelnienie_lis_2 = []\n",
        "  for e in ll_uzupelnienie:\n",
        "    indx = e[1]\n",
        "    waga = proba_losowa[proba_losowa.index == indx]['waga'].tolist()\n",
        "    waga = waga[0]\n",
        "    ll_uzupelnienie_lis_2.append((waga,e[0]))\n",
        "    #uzupełniam swój ostateczny dict dla nieloswej znalezionymi wagami\n",
        "  for element in df_nielosowa.index:\n",
        "    for tup in ll_uzupelnienie_lis_2:\n",
        "      if element == tup[1]:\n",
        "        lista_wag_n[element] = tup[0]\n",
        "\n",
        "  df_nielosowa['waga'] = lista_wag_n.values()\n",
        "\n",
        "  PSM=weightedMean(df_nielosowa['race'],df_nielosowa['waga'],len(df_nielosowa))\n",
        "  Srednie_wazone_PSM.append(PSM)\n",
        "\n",
        "  var = variance(df_nielosowa['race'])\n",
        "  Variance_PSM.append(var)\n",
        "  print(f'{i+1} z 100 został ukończony!')"
      ],
      "id": "soMlP2-2Mtpz",
      "execution_count": null,
      "outputs": []
    },
    {
      "cell_type": "markdown",
      "metadata": {
        "id": "Is6R11fULU3O"
      },
      "source": [
        "Masowa imputacja (Kwaśnioch)"
      ],
      "id": "Is6R11fULU3O"
    },
    {
      "cell_type": "code",
      "metadata": {
        "id": "v3SXdG57LS1p"
      },
      "source": [
        "def imputacja_masowa(proba_losowa, df_nielosowa):\n",
        "#podział zbiorów\n",
        "  y = df_nielosowa['race']\n",
        "  X = df_nielosowa.drop('race',axis=1)\n",
        "  y_random = proba_losowa['race']\n",
        "  X_random = proba_losowa.drop('race',axis=1)\n",
        "#modelowanie\n",
        "  test_size = 0.33\n",
        "  X_train, X_test, y_train, y_test = train_test_split(X, y, test_size=test_size)\n",
        "  model = CatBoostClassifier(max_depth=8, random_state=2,verbose=False)\n",
        "  model.fit(X_train, y_train)\n",
        "\n",
        "#predykcja prawdopodobienstwa\n",
        "  yhat = model.predict_proba(X)\n",
        "  y_random = model.predict_proba(X_random)\n",
        "\n",
        "  score = model.score(X_test, y_test)\n",
        "  print(score)\n",
        "#wybor prawdopodobienstwa, że 1 \n",
        "  yhat_1 = []\n",
        "  for e in yhat:\n",
        "    yhat_1.append(e[1])\n",
        "  y_random_1 = []\n",
        "  for e in y_random:\n",
        "    y_random_1.append(e[1])\n",
        "#szukanie najbliższego sąsiada\n",
        "  inserted_values = []\n",
        "  for i in range(len(proba_losowa)):\n",
        "    y_k = y_random_1[i]\n",
        "    distances = np.abs(yhat_1 - y_k)\n",
        "    min_index = distances.argmin()\n",
        "    inserted_values.append(y.iloc[min_index])\n",
        "#pobranie wag z proby losowej\n",
        "  weights_array = proba_losowa['waga'].to_numpy()\n",
        "  inserted_values = np.array(inserted_values)\n",
        "#masowa imputacja, podejście 1 i 2\n",
        "  mass_imputation_1 = np.multiply(weights_array, inserted_values).sum() / weights_array.sum()\n",
        "  \n",
        "  mass_imputation_2 = np.multiply(weights_array, y_random_1).sum() / weights_array.sum()\n",
        "  var = variance(df_nielosowa['race'])\n",
        "  Variance_MASS_1.append(var)\n",
        "  return mass_imputation_1, mass_imputation_2"
      ],
      "id": "v3SXdG57LS1p",
      "execution_count": 23,
      "outputs": []
    },
    {
      "cell_type": "code",
      "metadata": {
        "id": "izixwP5tLnEz"
      },
      "source": [
        "Srednie_wazone_MASS_1=[]\n",
        "Srednie_wazone_MASS_2=[]\n",
        "Variance_MASS_1=[]\n",
        "\n",
        "for i in range(100):\n",
        "  i = i+300\n",
        "  #tworzymy próby losowe i nielosowe\n",
        "  proba_losowa, df_nielosowa=losowa_nielosowa_split(df,i)\n",
        "  proba_losowa= preprocessing(proba_losowa)\n",
        "  df_nielosowa= preprocessing(df_nielosowa)\n",
        "\n",
        "  #masowa imputacja\n",
        "  mass_imputation_1, mass_imputation_2 = imputacja_masowa(proba_losowa, df_nielosowa)\n",
        "  Srednie_wazone_MASS_1.append(mass_imputation_1)\n",
        "  Srednie_wazone_MASS_2.append(mass_imputation_2)\n",
        "\n",
        "  print(f'{i+1} z 100 został ukończony!')"
      ],
      "id": "izixwP5tLnEz",
      "execution_count": null,
      "outputs": []
    },
    {
      "cell_type": "markdown",
      "metadata": {
        "id": "AMbJF_Wr2rvo"
      },
      "source": [
        "## Wyliczenie średnich z tablic estymowanych wartości (Glazer)\n",
        "Zauważalne jest, iż zarówno wszystkie estymacje są lepsze od naiwnej.\n",
        "Najbliższa prawdziwej średniej jest Mass imputation nr 2. "
      ],
      "id": "AMbJF_Wr2rvo"
    },
    {
      "cell_type": "code",
      "metadata": {
        "id": "b580b0ef",
        "colab": {
          "base_uri": "https://localhost:8080/"
        },
        "outputId": "60fb1704-48bf-433d-d2d7-cce026764319"
      },
      "source": [
        "df_population_mean=preprocessing(df)['race'].mean()\n",
        "print(f'Średnia naiwna: {round(np.array(Srednie_wazone_naiwny).mean(),4)}')\n",
        "print(f'Średnia PSW: {round(np.array(Srednie_wazone_PSW).mean(),4)}')\n",
        "print(f'Średnia PSM: {round(np.array(Srednie_wazone_PSM).mean(),4)}')\n",
        "print(f'Średnia MASS 1 : {round(np.array(Srednie_wazone_MASS_1).mean(),4)}')\n",
        "print(f'Średnia MASS 2 : {round(np.array(Srednie_wazone_MASS_2).mean(),4)}')\n",
        "print(f'Średnia prawdziwa: {round(df_population_mean,4)}')\n"
      ],
      "id": "b580b0ef",
      "execution_count": 43,
      "outputs": [
        {
          "output_type": "stream",
          "text": [
            "Średnia naiwna: 0.3896\n",
            "Średnia PSW: 0.4225\n",
            "Średnia PSM: 0.4045\n",
            "Średnia MASS 1 : 0.4975\n",
            "Średnia MASS 2 : 0.4781\n",
            "Średnia prawdziwa: 0.4939\n"
          ],
          "name": "stdout"
        }
      ]
    },
    {
      "cell_type": "markdown",
      "metadata": {
        "id": "lJ3z4UzR22yN"
      },
      "source": [
        "## BIAS/VAR/MSE (Glazer)"
      ],
      "id": "lJ3z4UzR22yN"
    },
    {
      "cell_type": "code",
      "metadata": {
        "colab": {
          "base_uri": "https://localhost:8080/",
          "height": 197
        },
        "id": "FqbLEIf05MYd",
        "outputId": "bc5d2fa2-683b-4a9a-a3b5-7b11e7789571"
      },
      "source": [
        "Wyniki = pd.DataFrame(np.array([BiasVarMSE(Srednie_wazone_PSW,Variance_PSW,'PSW'), \n",
        "                                BiasVarMSE(Srednie_wazone_PSM,Variance_PSM,'PSM'), \n",
        "                                BiasVarMSE(Srednie_wazone_naiwny,Variance_naiwny,'Naiwny'), \n",
        "                                BiasVarMSE(Srednie_wazone_MASS_1,Variance_MASS_1,'MASS1'),\n",
        "                                BiasVarMSE(Srednie_wazone_MASS_2,Variance_MASS_1,'MASS2')]),\n",
        "                   columns=['name','BIAS', 'VAR', 'MSE'])\n",
        "Wyniki"
      ],
      "id": "FqbLEIf05MYd",
      "execution_count": 39,
      "outputs": [
        {
          "output_type": "execute_result",
          "data": {
            "text/html": [
              "<div>\n",
              "<style scoped>\n",
              "    .dataframe tbody tr th:only-of-type {\n",
              "        vertical-align: middle;\n",
              "    }\n",
              "\n",
              "    .dataframe tbody tr th {\n",
              "        vertical-align: top;\n",
              "    }\n",
              "\n",
              "    .dataframe thead th {\n",
              "        text-align: right;\n",
              "    }\n",
              "</style>\n",
              "<table border=\"1\" class=\"dataframe\">\n",
              "  <thead>\n",
              "    <tr style=\"text-align: right;\">\n",
              "      <th></th>\n",
              "      <th>name</th>\n",
              "      <th>BIAS</th>\n",
              "      <th>VAR</th>\n",
              "      <th>MSE</th>\n",
              "    </tr>\n",
              "  </thead>\n",
              "  <tbody>\n",
              "    <tr>\n",
              "      <th>0</th>\n",
              "      <td>PSW</td>\n",
              "      <td>-0.0714</td>\n",
              "      <td>0.2424</td>\n",
              "      <td>0.2475</td>\n",
              "    </tr>\n",
              "    <tr>\n",
              "      <th>1</th>\n",
              "      <td>PSM</td>\n",
              "      <td>-0.0894</td>\n",
              "      <td>0.2416</td>\n",
              "      <td>0.2496</td>\n",
              "    </tr>\n",
              "    <tr>\n",
              "      <th>2</th>\n",
              "      <td>Naiwny</td>\n",
              "      <td>-0.1043</td>\n",
              "      <td>0.2383</td>\n",
              "      <td>0.2492</td>\n",
              "    </tr>\n",
              "    <tr>\n",
              "      <th>3</th>\n",
              "      <td>MASS1</td>\n",
              "      <td>0.0036</td>\n",
              "      <td>0.2423</td>\n",
              "      <td>0.2423</td>\n",
              "    </tr>\n",
              "    <tr>\n",
              "      <th>4</th>\n",
              "      <td>MASS2</td>\n",
              "      <td>-0.0158</td>\n",
              "      <td>0.2423</td>\n",
              "      <td>0.2425</td>\n",
              "    </tr>\n",
              "  </tbody>\n",
              "</table>\n",
              "</div>"
            ],
            "text/plain": [
              "     name     BIAS     VAR     MSE\n",
              "0     PSW  -0.0714  0.2424  0.2475\n",
              "1     PSM  -0.0894  0.2416  0.2496\n",
              "2  Naiwny  -0.1043  0.2383  0.2492\n",
              "3   MASS1   0.0036  0.2423  0.2423\n",
              "4   MASS2  -0.0158  0.2423  0.2425"
            ]
          },
          "metadata": {
            "tags": []
          },
          "execution_count": 39
        }
      ]
    },
    {
      "cell_type": "markdown",
      "metadata": {
        "id": "3OCcn_9t5apo"
      },
      "source": [
        "\n",
        "\n",
        "1.   Obciążenie jak i samo MSE jest największe dla estymatora PSM \n",
        "2.   Wariancje dla modeli MASS1 i MASS2 są takie same z uwagi na ten sam zakres danych brany do ich wyliczenia\n",
        "3.   Najlepszy wynik MSE uzyskał model MASS1\n",
        "\n",
        "\n",
        "\n"
      ],
      "id": "3OCcn_9t5apo"
    },
    {
      "cell_type": "code",
      "metadata": {
        "id": "LIDUU4i9730u"
      },
      "source": [
        ""
      ],
      "id": "LIDUU4i9730u",
      "execution_count": null,
      "outputs": []
    }
  ]
}